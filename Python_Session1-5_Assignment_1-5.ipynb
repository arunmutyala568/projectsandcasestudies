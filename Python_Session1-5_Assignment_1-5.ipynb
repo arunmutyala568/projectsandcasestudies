{
 "cells": [
  {
   "cell_type": "code",
   "execution_count": 9,
   "metadata": {},
   "outputs": [
    {
     "name": "stdout",
     "output_type": "stream",
     "text": [
      "Hello world\n"
     ]
    }
   ],
   "source": [
    "def firstprogram():\n",
    "    \n",
    "    print(\"Hello world\")\n",
    "    \n",
    "    \n",
    "firstprogram()"
   ]
  },
  {
   "cell_type": "code",
   "execution_count": 11,
   "metadata": {},
   "outputs": [
    {
     "name": "stdout",
     "output_type": "stream",
     "text": [
      "2002 2009 2016 2023 2037 2044 2051 2058 2072 2079 2086 2093 2107 2114 2121 2128 2142 2149 2156 2163 2177 2184 2191 2198 2212 2219 2226 2233 2247 2254 2261 2268 2282 2289 2296 2303 2317 2324 2331 2338 2352 2359 2366 2373 2387 2394 2401 2408 2422 2429 2436 2443 2457 2464 2471 2478 2492 2499 2506 2513 2527 2534 2541 2548 2562 2569 2576 2583 2597 2604 2611 2618 2632 2639 2646 2653 2667 2674 2681 2688 2702 2709 2716 2723 2737 2744 2751 2758 2772 2779 2786 2793 2807 2814 2821 2828 2842 2849 2856 2863 2877 2884 2891 2898 2912 2919 2926 2933 2947 2954 2961 2968 2982 2989 2996 3003 3017 3024 3031 3038 3052 3059 3066 3073 3087 3094 3101 3108 3122 3129 3136 3143 3157 3164 3171 3178 3192 3199 "
     ]
    }
   ],
   "source": [
    "''''2. Write a program which will find all such numbers which are divisible by 7 but are not a\n",
    "multiple of 5, between 2000 and 3200 (both included). The numbers obtained should be printed\n",
    "in a comma-separated sequence on a single line.'''\n",
    "\n",
    "def fun():\n",
    "    \n",
    "    for i in range(2000,3201,1):\n",
    "         if i%5!=0 and i%7==0:\n",
    "                print(i,end=\" \")\n",
    "        \n",
    "    \n",
    "        \n",
    "fun()"
   ]
  },
  {
   "cell_type": "code",
   "execution_count": 12,
   "metadata": {},
   "outputs": [
    {
     "name": "stdout",
     "output_type": "stream",
     "text": [
      "sunil\n",
      "karri\n",
      "karri sunil\n"
     ]
    }
   ],
   "source": [
    "''''3. Write a Python program to accept the user's first and last name and then getting them\n",
    "printed in the the reverse order with a space between first name and last name.'''\n",
    "\n",
    "def revname():\n",
    "    \n",
    "    firstname=input()\n",
    "    lastname=input()\n",
    "    \n",
    "    firstname,lastname=lastname,firstname\n",
    "    \n",
    "    print(firstname+\" \"+lastname)\n",
    "    \n",
    "revname()"
   ]
  },
  {
   "cell_type": "code",
   "execution_count": 13,
   "metadata": {},
   "outputs": [
    {
     "name": "stdout",
     "output_type": "stream",
     "text": [
      "enter diameter12\n",
      "6.0\n",
      "904.7786842338603\n"
     ]
    }
   ],
   "source": [
    "''''4.Write a Python program to find the volume of a sphere with diameter 12 cm.\n",
    "Formula: V=4/3 * π * r 3'''\n",
    "\n",
    "\n",
    "from math import pow\n",
    "\n",
    "def volume_sphere():\n",
    "    \n",
    "    pi = 3.1415926535897931\n",
    "    \n",
    "    radius=int(input(\"enter diameter\"))/2\n",
    "    \n",
    "    print(radius)\n",
    "    \n",
    "    volume=(4.0/3.0)*pi *radius**3\n",
    "    \n",
    "    print(volume)\n",
    "    \n",
    "    \n",
    "volume_sphere()"
   ]
  },
  {
   "cell_type": "code",
   "execution_count": 15,
   "metadata": {},
   "outputs": [
    {
     "name": "stdout",
     "output_type": "stream",
     "text": [
      "5,4,7,9,1\n",
      "[5, 4, 7, 9, 1]\n"
     ]
    }
   ],
   "source": [
    "''''1. Write a program which accepts a sequence of comma-separated numbers from console\n",
    "and generate a list.'''\n",
    "def accept():\n",
    "\n",
    "    nums=input()\n",
    "    \n",
    "    lst=[]\n",
    "    \n",
    "    #print(list(nums))\n",
    "    \n",
    "    for i in list(nums):\n",
    "        \n",
    "        if i==',':\n",
    "            pass\n",
    "        \n",
    "        else:\n",
    "            \n",
    "            lst.append(i)\n",
    "            \n",
    "    #print(lst)\n",
    "        \n",
    "        \n",
    "    d=[int(i) for i in lst]\n",
    "        \n",
    "    print(d)\n",
    "        \n",
    "    \n",
    "    \n",
    "accept()\n",
    "    "
   ]
  },
  {
   "cell_type": "code",
   "execution_count": 17,
   "metadata": {},
   "outputs": [
    {
     "name": "stdout",
     "output_type": "stream",
     "text": [
      "* \r\n",
      "* * \r\n",
      "* * * \r\n",
      "* * * * \r\n",
      "* * * * * \r\n",
      "* * * * \r\n",
      "* * * \r\n",
      "* * \r\n",
      "* \r\n",
      "\r\n"
     ]
    }
   ],
   "source": [
    "''''2. Create the below pattern using nested for loop in Python.'''\n",
    "\n",
    "def mypattren(rows):\n",
    "    \n",
    "    \n",
    "    for i in range(0,rows,1):\n",
    "        \n",
    "        for j in range(0,i+1):\n",
    "            \n",
    "            print(\"*\",end=\" \")\n",
    "        print(\"\\r\")   \n",
    "            \n",
    "    for i in range(rows,0,-1):\n",
    "        \n",
    "        for j in range(0,i-1):\n",
    "            \n",
    "            print(\"*\",end=\" \")\n",
    "            \n",
    "        print(\"\\r\")\n",
    "        \n",
    "        \n",
    "mypattren(5)"
   ]
  },
  {
   "cell_type": "code",
   "execution_count": 18,
   "metadata": {},
   "outputs": [
    {
     "name": "stdout",
     "output_type": "stream",
     "text": [
      "AcadGild\n",
      "dliGdacA\n"
     ]
    }
   ],
   "source": [
    "''''3. Write a Python program to reverse a word after accepting the input from the user.'''\n",
    "\n",
    "def reversestring():\n",
    "    \n",
    "    name=input()\n",
    "    \n",
    "    print(name[::-1])\n",
    "    \n",
    "reversestring()"
   ]
  },
  {
   "cell_type": "code",
   "execution_count": 19,
   "metadata": {},
   "outputs": [
    {
     "name": "stdout",
     "output_type": "stream",
     "text": [
      "\n",
      "WE, THE PEOPLE OF INDIA,\n",
      " having solemnly resolved to constitute India into a SOVEREIGN,!\n",
      "SOCIALIST, SECULAR, DEMOCRATIC\n",
      " REPUBLIC and to secure to all its citizens\n"
     ]
    }
   ],
   "source": [
    "''''4. Write a Python Program to print the given string in the format specified in the\n",
    "sample output.'''\n",
    "\n",
    "print(\"{0}WE, THE PEOPLE OF INDIA,{1} having solemnly resolved to constitute India into a SOVEREIGN,{2}{3}SOCIALIST, SECULAR, DEMOCRATIC{4} REPUBLIC and to secure to all its citizens\".format(\"\\n\", \"\\n\",\"!\",\"\\n\",\"\\n\"))"
   ]
  },
  {
   "cell_type": "code",
   "execution_count": 20,
   "metadata": {},
   "outputs": [
    {
     "name": "stdout",
     "output_type": "stream",
     "text": [
      "15\n"
     ]
    }
   ],
   "source": [
    "''''1.1 Write a Python Program to implement your own myreduce() function which works exactly\n",
    "like Python's built-in function reduce()'''\n",
    "\n",
    "\n",
    "def myadd(x,y):\n",
    "    \n",
    "    return x+y\n",
    "\n",
    "\n",
    "def myreduce(func,seq):\n",
    "    \n",
    "    \n",
    "    firstvalue=seq[0]\n",
    "    \n",
    "    restvalue=seq[1:]\n",
    "    \n",
    "    for i in restvalue:\n",
    "        \n",
    "        \n",
    "        firstvalue=func(firstvalue,i)\n",
    "        \n",
    "    print(firstvalue)\n",
    "        \n",
    "        \n",
    "myreduce(myadd,[1,2,3,4,5])\n",
    "    \n",
    "    "
   ]
  },
  {
   "cell_type": "code",
   "execution_count": 21,
   "metadata": {},
   "outputs": [
    {
     "name": "stdout",
     "output_type": "stream",
     "text": [
      "[20, 22, 24, 32]\n"
     ]
    }
   ],
   "source": [
    "''''1.2 Write a Python program to implement your own myfilter() function which works exactly\n",
    "like Python's built-in function filter()'''\n",
    "\n",
    "ages = [5, 20, 17, 22, 24, 32]\n",
    "\n",
    "def myFunc(x):\n",
    "    if x < 18:\n",
    "        return False\n",
    "    else:\n",
    "        \n",
    "        return True\n",
    "\n",
    "def myfilter(func,mysequ):\n",
    "    \n",
    "    \n",
    "    for x in mysequ:\n",
    "        \n",
    "        if func(x):\n",
    "            \n",
    "            yield x\n",
    "            \n",
    "        else:\n",
    "            \n",
    "            pass\n",
    "        \n",
    "        \n",
    "d=list(myfilter(myFunc,ages))\n",
    "\n",
    "print(d)\n"
   ]
  },
  {
   "cell_type": "code",
   "execution_count": 17,
   "metadata": {},
   "outputs": [
    {
     "name": "stdout",
     "output_type": "stream",
     "text": [
      "['A', 'C', 'A', 'D', 'G', 'I', 'L', 'D']\n",
      "--------------------------------------------------------------------------------\n",
      "['x', 'y', 'z', 'xx', 'yy', 'zz', 'xxx', 'yyy', 'zzz', 'xxxx', 'yyyy', 'zzzz']\n",
      "--------------------------------------------------------------------------------\n",
      "['x', 'xx', 'xxx', 'xxxx', 'y', 'yy', 'yyy', 'yyyy', 'z', 'zz', 'zzz', 'zzzz']\n",
      "--------------------------------------------------------------------------------\n",
      "[[2], [3], [4], [3], [4], [5], [4], [5], [6]]\n",
      "--------------------------------------------------------------------------------\n",
      "[[2, 3, 4], [3, 4, 5], [4, 5, 6]]\n",
      "--------------------------------------------------------------------------------\n",
      "[(1, 1), (2, 1), (3, 1), (1, 2), (2, 2), (3, 2), (1, 3), (2, 3), (3, 3)]\n"
     ]
    }
   ],
   "source": [
    "''''2. Implement List comprehensions to produce the following lists.\n",
    "Write List comprehensions to produce the following Lists'''\n",
    "\n",
    "\n",
    "stry='ACADGILD'\n",
    "\n",
    "d=list(i for i in stry)\n",
    "\n",
    "print(d)\n",
    "\n",
    "print('-'*80)\n",
    "\n",
    "\n",
    "\n",
    "e=[ i*j  for j in range(1,5,1) for i in ['x','y','z'] ]\n",
    "\n",
    "print (list(e))\n",
    "\n",
    "print('-'*80)\n",
    "\n",
    "lst=[]\n",
    "\n",
    "f=[ i*j for i in ['x','y','z'] for j in range(1,5,1) ]\n",
    "\n",
    "print (list(f))\n",
    "\n",
    "print('-'*80)\n",
    "\n",
    "g=[[x+y] for x in range(2,5) for y in range(3)]\n",
    "\n",
    "print(g)\n",
    "\n",
    "print('-'*80)\n",
    "\n",
    "h=[[x+y for x in range(2,5)] for y in range(3)]\n",
    "\n",
    "print(h)\n",
    "\n",
    "print('-'*80)\n",
    "\n",
    "i=[(j,i) for i in range(1,4,1) for j in range(1,4,1)]\n",
    "\n",
    "print(i)"
   ]
  },
  {
   "cell_type": "code",
   "execution_count": 22,
   "metadata": {},
   "outputs": [
    {
     "name": "stdout",
     "output_type": "stream",
     "text": [
      "thisisthelongestwordperhapsyoucouldfindinthislist\n"
     ]
    }
   ],
   "source": [
    "''''3. Implement a function longestWord() that takes a list of words and returns the longest one.'''\n",
    "\n",
    "def longestWord(mulist):\n",
    "    \n",
    "    \n",
    "    result=[]\n",
    "    \n",
    "    for i in mulist:\n",
    "        \n",
    "        result.append(len(i))\n",
    "        \n",
    "        \n",
    "    #print(result)\n",
    "    \n",
    "    maxd=max(result)\n",
    "    \n",
    "    #print(maxd)\n",
    "    \n",
    "    \n",
    "    \n",
    "    for i in mulist:\n",
    "        \n",
    "        if len(i)==maxd:\n",
    "            \n",
    "            print(i)\n",
    "        else:\n",
    "            \n",
    "            pass\n",
    "    \n",
    "     \n",
    "     \n",
    "    \n",
    "\n",
    "rulist=[\"kapodokia\",\"arun\",\"kumar\",\"mutyala\",\"thisisthelongestwordperhapsyoucouldfindinthislist\"]\n",
    "\n",
    "longestWord(rulist)\n"
   ]
  },
  {
   "cell_type": "code",
   "execution_count": 24,
   "metadata": {},
   "outputs": [
    {
     "data": {
      "text/plain": [
       "2.9047375096555625"
      ]
     },
     "execution_count": 24,
     "metadata": {},
     "output_type": "execute_result"
    }
   ],
   "source": [
    "''''1.1 Write a Python Program(with class concepts) to find the area of the triangle using the below\n",
    "formula.\n",
    "area = (s*(s-a)*(s-b)*(s-c)) ** 0.5\n",
    "Function to take the length of the sides of triangle from user should be defined in the parent\n",
    "class and function to calculate the area should be defined in subclass.'''\n",
    "\n",
    "class triangle:\n",
    "    \n",
    "    \n",
    "    def perimeter(self,side1,side2,side3):\n",
    "        \n",
    "        \n",
    "        return (side1+side2+side3)/2\n",
    "    \n",
    "class area(triangle):\n",
    "    \n",
    "    \n",
    "    def areaw(self,side1,side2,side3):\n",
    "        \n",
    "       \n",
    "        p=self.perimeter(side1,side2,side3)\n",
    "        \n",
    "        \n",
    "        return (p*(p-side1)*(p-side2)*(p-side3))**0.5\n",
    "    \n",
    "    \n",
    "a=area()\n",
    "\n",
    "a.areaw(2,3,4)"
   ]
  },
  {
   "cell_type": "code",
   "execution_count": 25,
   "metadata": {},
   "outputs": [
    {
     "name": "stdout",
     "output_type": "stream",
     "text": [
      "['kapodokia', 'kumar', 'mutyala']\n"
     ]
    }
   ],
   "source": [
    "'''1.2 Write a function filter_long_words() that takes a list of words and an integer n and returns\n",
    "the list of words that are longer than n.'''\n",
    "\n",
    "def filtr_long_words(mylist,num):\n",
    "    \n",
    "    \n",
    "    lenlist=[]\n",
    "    \n",
    "    resultlist=[]\n",
    "    \n",
    "    \n",
    "    for i in mylist:\n",
    "        \n",
    "        if len(i)>num:\n",
    "            \n",
    "            resultlist.append(i)\n",
    "            \n",
    "        else:\n",
    "            \n",
    "            pass\n",
    "            \n",
    "    print (resultlist)\n",
    "    \n",
    "    \n",
    "rulist=[\"kapodokia\",\"arun\",\"kumar\",\"mutyala\",\"za\"]\n",
    "\n",
    "filtr_long_words(rulist,4)\n",
    "         "
   ]
  },
  {
   "cell_type": "code",
   "execution_count": 3,
   "metadata": {},
   "outputs": [
    {
     "name": "stdout",
     "output_type": "stream",
     "text": [
      "[4, 7, 5, 5]\n"
     ]
    }
   ],
   "source": [
    "'''2.1 Write a Python program using function concept that maps list of words into a list of integers\n",
    "representing the lengths of the corresponding words.\n",
    "Hint: If a list [ ab,cde,erty] is passed on to the python function output should come as [2,3,4]\n",
    "Here 2,3 and 4 are the lengths of the words in the list.'''\n",
    "\n",
    "def lengthe(mylistl):\n",
    "    \n",
    "    \n",
    "    \n",
    "    return len(mylistl)\n",
    "        \n",
    "   \n",
    "\n",
    "    \n",
    "    \n",
    "mylist=[\"arun\",\"mutyala\",\"madhu\",\"sunil\"]\n",
    "\n",
    "p=list(map(lengthe,mylist))\n",
    "\n",
    "print(p)"
   ]
  },
  {
   "cell_type": "code",
   "execution_count": 26,
   "metadata": {},
   "outputs": [
    {
     "name": "stdout",
     "output_type": "stream",
     "text": [
      "False\n",
      "True\n",
      "True\n",
      "True\n"
     ]
    }
   ],
   "source": [
    "'''2.2 Write a Python function which takes a character (i.e. a string of length 1) and returns True if\n",
    "it is a vowel, False otherwise.'''\n",
    "\n",
    "def checkvowel(vowel):\n",
    "    \n",
    "    vowellist=['a','e','i','o','u']\n",
    "    \n",
    "    capvowellist=['A','E','I','O','U']\n",
    "    \n",
    "    \n",
    "    if len(vowel)>1:\n",
    "        \n",
    "        print(\"only single letter required\")\n",
    "        \n",
    "    else:\n",
    "        \n",
    "         if (vowel.lower() or vowel.upper()) in (vowellist or capvowellist):\n",
    "        \n",
    "           return True\n",
    "    \n",
    "         else:\n",
    "        \n",
    "           return False\n",
    "    \n",
    "    \n",
    "   \n",
    "    \n",
    "    \n",
    "    \n",
    "print(checkvowel('V'))\n",
    "\n",
    "print(checkvowel('a'))\n",
    "\n",
    "print(checkvowel('A'))\n",
    "\n",
    "print(checkvowel('i'))\n",
    "      "
   ]
  },
  {
   "cell_type": "code",
   "execution_count": 27,
   "metadata": {},
   "outputs": [
    {
     "name": "stdout",
     "output_type": "stream",
     "text": [
      "arthematic error like division by zero\n",
      "operations completed\n"
     ]
    }
   ],
   "source": [
    "'''1. Write a function to compute 5/0 and use try/except to catch the exceptions.'''\n",
    "\n",
    "def mydivision(num1,num2):\n",
    "    \n",
    "    \n",
    "    return num1/num2\n",
    "\n",
    "\n",
    "\n",
    "\n",
    "try:\n",
    "    \n",
    "    d=mydivision(5,0)\n",
    "    \n",
    "  \n",
    "    \n",
    "except ArithmeticError:\n",
    "    \n",
    "    print(\"arthematic error like division by zero\")\n",
    "    \n",
    "except StandardError:\n",
    "    \n",
    "    print(\"Mathematically division not possible\")\n",
    "    \n",
    "    \n",
    "else:\n",
    "    \n",
    "    print(d)\n",
    "    \n",
    "finally:\n",
    "    \n",
    "    print(\"operations completed\")\n",
    "    \n",
    "    "
   ]
  },
  {
   "cell_type": "code",
   "execution_count": 29,
   "metadata": {},
   "outputs": [
    {
     "name": "stdout",
     "output_type": "stream",
     "text": [
      "Americans Play Baseball\n",
      "Americans Play Cricket\n",
      "Americans watch Baseball\n",
      "Americans watch Cricket\n",
      "Indians Play Baseball\n",
      "Indians Play Cricket\n",
      "Indians watch Baseball\n",
      "Indians watch Cricket\n"
     ]
    }
   ],
   "source": [
    "'''2. Implement a Python program to generate all sentences where subject is in\n",
    "[\"Americans\", \"Indians\"] and verb is in [\"Play\", \"watch\"] and the object is in\n",
    "[\"Baseball\",\"cricket\"].\n",
    "Hint: Subject,Verb and Object should be declared in the program as shown below.\n",
    "subjects=[\"Americans \",\"Indians\"]\n",
    "verbs=[\"play\",\"watch\"]\n",
    "objects=[\"Baseball\",\"Cricket\"]'''\n",
    "\n",
    "countries=[\"Americans\",\"Indians\"]\n",
    "\n",
    "capitals=[\"Play\",\"watch\"]\n",
    "\n",
    "games=[\"Baseball\",\"Cricket\"]\n",
    "\n",
    "\n",
    "\n",
    "\n",
    "for i in countries:\n",
    "    \n",
    "    \n",
    "    for j in capitals:\n",
    "        \n",
    "        \n",
    "        for k in games:\n",
    "            \n",
    "        \n",
    "          print(i+\" \"+j +\" \"+k )\n",
    "        "
   ]
  },
  {
   "cell_type": "code",
   "execution_count": null,
   "metadata": {},
   "outputs": [],
   "source": []
  }
 ],
 "metadata": {
  "kernelspec": {
   "display_name": "Python 3",
   "language": "python",
   "name": "python3"
  },
  "language_info": {
   "codemirror_mode": {
    "name": "ipython",
    "version": 3
   },
   "file_extension": ".py",
   "mimetype": "text/x-python",
   "name": "python",
   "nbconvert_exporter": "python",
   "pygments_lexer": "ipython3",
   "version": "3.7.3"
  }
 },
 "nbformat": 4,
 "nbformat_minor": 2
}
