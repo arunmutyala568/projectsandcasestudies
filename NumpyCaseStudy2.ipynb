{
 "cells": [
  {
   "cell_type": "markdown",
   "metadata": {},
   "source": [
    "# This case study consists of 1000 marks and the solution file is expected to be submitted in the upcoming session for evaluation."
   ]
  },
  {
   "cell_type": "code",
   "execution_count": 2,
   "metadata": {},
   "outputs": [],
   "source": [
    "import numpy as np\n",
    "\n",
    "from numpy.random import randint as ri"
   ]
  },
  {
   "cell_type": "markdown",
   "metadata": {},
   "source": [
    "### 1.Create two matrices of 3*3 and perform the arithmatic operations metioned in below \"print\" statements"
   ]
  },
  {
   "cell_type": "code",
   "execution_count": 16,
   "metadata": {},
   "outputs": [
    {
     "name": "stdout",
     "output_type": "stream",
     "text": [
      "\n",
      "1st Matrix of random single-digit numbers\n",
      "----------------------------------------\n",
      " [[5 1 3]\n",
      " [5 9 6]\n",
      " [8 3 8]]\n",
      "\n",
      "2nd Matrix of random single-digit numbers\n",
      "----------------------------------------\n",
      " [[6 1 1]\n",
      " [4 2 9]\n",
      " [1 9 5]]\n",
      "\n",
      "Addition\n",
      "------------------\n",
      " [[11  2  4]\n",
      " [ 9 11 15]\n",
      " [ 9 12 13]]\n",
      "\n",
      "Multiplication\n",
      "------------------\n",
      " [[30  1  3]\n",
      " [20 18 54]\n",
      " [ 8 27 40]]\n",
      "\n",
      "Division\n",
      "------------------\n",
      " [[0.83333333 1.         3.        ]\n",
      " [1.25       4.5        0.66666667]\n",
      " [8.         0.33333333 1.6       ]]\n",
      "\n",
      "Linear combination: 3*A - 2*B\n",
      "-----------------------------\n",
      " [[ 3  1  7]\n",
      " [ 7 23  0]\n",
      " [22 -9 14]]\n",
      "\n",
      "Addition of a scalar (100)\n",
      "-------------------------\n",
      " [[105 101 103]\n",
      " [105 109 106]\n",
      " [108 103 108]]\n",
      "\n",
      "Exponentiation, matrix cubed here\n",
      "----------------------------------------\n",
      " [[125   1  27]\n",
      " [125 729 216]\n",
      " [512  27 512]]\n",
      "\n",
      "Exponentiation, mat1 sq-root using pow function\n",
      "-------------------------------------------\n",
      " [[2.23606798 1.         1.73205081]\n",
      " [2.23606798 3.         2.44948974]\n",
      " [2.82842712 1.73205081 2.82842712]]\n"
     ]
    }
   ],
   "source": [
    "from numpy.random import randint as ri\n",
    "\n",
    "from math import pow as bm\n",
    "\n",
    "mat1 = ri(1,10,9).reshape(3,3)\n",
    "\n",
    "mat2 = ri(1,10,9).reshape(3,3)\n",
    "\n",
    "\n",
    "            \n",
    "print(\"\\n1st Matrix of random single-digit numbers\\n----------------------------------------\\n\",mat1)\n",
    "print(\"\\n2nd Matrix of random single-digit numbers\\n----------------------------------------\\n\",mat2)\n",
    "\n",
    "\n",
    "print(\"\\nAddition\\n------------------\\n\", mat1+mat2)\n",
    "print(\"\\nMultiplication\\n------------------\\n\", mat2*mat1)\n",
    "\n",
    "\n",
    "print(\"\\nDivision\\n------------------\\n\", mat1/mat2)\n",
    "print(\"\\nLinear combination: 3*A - 2*B\\n-----------------------------\\n\", 3*mat1-2*mat2)\n",
    "\n",
    "\n",
    "print(\"\\nAddition of a scalar (100)\\n-------------------------\\n\", 100+mat1)\n",
    "\n",
    "\n",
    "print(\"\\nExponentiation, matrix cubed here\\n----------------------------------------\\n\",np.power(mat1,3))\n",
    "print(\"\\nExponentiation, mat1 sq-root using pow function\\n-------------------------------------------\\n\",np.power(mat1,0.5))"
   ]
  },
  {
   "cell_type": "markdown",
   "metadata": {},
   "source": [
    "Some operations, such as += and *=, act in place to modify an existing array rather than create a new one."
   ]
  },
  {
   "cell_type": "markdown",
   "metadata": {},
   "source": [
    "NumPy provides familiar mathematical functions such as sin, cos, and exp. In NumPy, these are called “universal functions”(ufunc). Within NumPy, these functions operate elementwise on an array, producing an array as output."
   ]
  },
  {
   "cell_type": "markdown",
   "metadata": {},
   "source": [
    "### 2.Create two 3 * 3 matrices and perform the following operations as describe in print statement."
   ]
  },
  {
   "cell_type": "code",
   "execution_count": 29,
   "metadata": {
    "scrolled": true
   },
   "outputs": [
    {
     "name": "stdout",
     "output_type": "stream",
     "text": [
      "\n",
      "1st Matrix of random single-digit numbers\n",
      " -------------------------------------------------- \n",
      " [[3 4 3]\n",
      " [7 4 6]\n",
      " [4 9 3]]\n",
      "\n",
      "2nd Matrix of random single-digit numbers\n",
      " -------------------------------------------------- \n",
      " [[7 5 7]\n",
      " [5 6 7]\n",
      " [8 2 4]]\n",
      "\n",
      "Sum of all numbers in 1st matrix\n",
      " -------------------------------------------------- \n",
      " 43\n",
      "\n",
      "Sum of all numbers in columns of 1st matrix\n",
      " -------------------------------------------------- \n",
      " [14 17 12]\n",
      "\n",
      "Sum of all numbers in rows of 1st matrix\n",
      " -------------------------------------------------- \n",
      " [10 17 16]\n",
      "\n",
      "Product of all numbers in rows of 1st matrix\n",
      " -------------------------------------------------- \n",
      " [ 36 168 108]\n",
      "\n",
      "Product of all numbers in columns of 2nd matrix\n",
      " -------------------------------------------------- \n",
      " [280  60 196]\n",
      "\n",
      "Mean of all numbers in 1st matrix\n",
      " -------------------------------------------------- \n",
      " 4.777777777777778\n",
      "\n",
      "Standard deviation of all numbers in 1st matrix\n",
      " -------------------------------------------------- \n",
      " 1.9876159799998132\n",
      "\n",
      "Modified matrix of random numbers from 1 to 99\n",
      " -------------------------------------------------- \n",
      " [44 63 35 60 39 44  5 22 76 93 11 22 13 60 62  2 24 59 49 15 51 53 55  4\n",
      " 91 35 13 20 69 43 51 92 82 34 85  5 45 83 28 63 58 14 61 21 28 25 68 78\n",
      " 85 95 84 59 63 88  2 92 12 22 85 41 79 56  2 31 40 79 85 90 79 19 68 18\n",
      " 51 43 40 52 68 53 56 77 73 31 79 50  1 68 62 92 40 44 18 90 68 60 90 91\n",
      " 77 82 27]\n",
      "\n",
      "Standard deviation of all numbers in the modified matrix, a larger number\n",
      " -------------------------------------------------------------------------------- \n",
      " 27.308084077318206\n",
      "\n",
      "Variance of all numbers in the modified matrix, a larger number\n",
      " -------------------------------------------------------------------------------- \n",
      " 745.7314559738801\n",
      "\n",
      "Median of all numbers in the modified matrix\n",
      " ------------------------------------------------------------ \n",
      " 53.0\n"
     ]
    }
   ],
   "source": [
    "from numpy.random import randint as ri\n",
    "import numpy as np\n",
    "mat1 = ri(1,10,9).reshape(3,3)\n",
    "mat2 =ri(1,10,9).reshape(3,3)\n",
    "print(\"\\n1st Matrix of random single-digit numbers\\n\",\"-\"*50,\"\\n\",mat1)\n",
    "print(\"\\n2nd Matrix of random single-digit numbers\\n\",\"-\"*50,\"\\n\",mat2)\n",
    "\n",
    "\n",
    "print(\"\\nSum of all numbers in 1st matrix\\n\",\"-\"*50,\"\\n\",np.sum(mat1))\n",
    "print(\"\\nSum of all numbers in columns of 1st matrix\\n\",\"-\"*50,\"\\n\",np.sum(mat1,axis=0))\n",
    "\n",
    "\n",
    "print(\"\\nSum of all numbers in rows of 1st matrix\\n\",\"-\"*50,\"\\n\",np.sum(mat1,axis=1))\n",
    "print(\"\\nProduct of all numbers in rows of 1st matrix\\n\",\"-\"*50,\"\\n\",np.prod(mat1,axis=1))\n",
    "\n",
    "\n",
    "print(\"\\nProduct of all numbers in columns of 2nd matrix\\n\",\"-\"*50,\"\\n\",np.prod(mat2,axis=0))\n",
    "print(\"\\nMean of all numbers in 1st matrix\\n\",\"-\"*50,\"\\n\",np.mean(mat1))\n",
    "\n",
    "\n",
    "print(\"\\nStandard deviation of all numbers in 1st matrix\\n\",\"-\"*50,\"\\n\",np.std(mat1))\n",
    "\n",
    "\n",
    "mat1 = ri(0,99,99)\n",
    "print(\"\\nModified matrix of random numbers from 1 to 99\\n\",\"-\"*50,\"\\n\",mat1)\n",
    "\n",
    "\n",
    "print(\"\\nStandard deviation of all numbers in the modified matrix, a larger number\\n\",\"-\"*80,\"\\n\",np.std(mat1))\n",
    "\n",
    "\n",
    "print(\"\\nVariance of all numbers in the modified matrix, a larger number\\n\",\"-\"*80,\"\\n\",np.var(mat1))\n",
    "\n",
    "\n",
    "print(\"\\nMedian of all numbers in the modified matrix\\n\",\"-\"*60,\"\\n\",np.median(mat1))\n"
   ]
  },
  {
   "cell_type": "markdown",
   "metadata": {},
   "source": [
    "###  3.Create a 3 \\* 3 Matrix and Modify its shape to 9\\*1 matrix."
   ]
  },
  {
   "cell_type": "code",
   "execution_count": 31,
   "metadata": {},
   "outputs": [
    {
     "name": "stdout",
     "output_type": "stream",
     "text": [
      "[[0. 0. 0.]\n",
      " [0. 0. 0.]\n",
      " [0. 0. 0.]]\n",
      "modmat [[0.]\n",
      " [0.]\n",
      " [0.]\n",
      " [0.]\n",
      " [0.]\n",
      " [0.]\n",
      " [0.]\n",
      " [0.]\n",
      " [0.]]\n"
     ]
    }
   ],
   "source": [
    "from numpy.random import randint as ri\n",
    "import numpy as np\n",
    "mat1 = np.zeros([3,3])\n",
    "modmat1=mat1.reshape(9,1)\n",
    "print(mat1)\n",
    "\n",
    "print(\"modmat\",modmat1)"
   ]
  },
  {
   "cell_type": "markdown",
   "metadata": {},
   "source": [
    "### 4.Sort"
   ]
  },
  {
   "cell_type": "code",
   "execution_count": 7,
   "metadata": {},
   "outputs": [
    {
     "name": "stdout",
     "output_type": "stream",
     "text": [
      "\n",
      "Vector of 10 random integers from 1 to 100\n",
      " -------------------------------------------------- \n",
      " [86  6 91 66 24 68 90 24  2 75]\n",
      "\n",
      "Here is the sorted vector\n",
      " -------------------------------------------------- \n",
      " [ 2  6 24 24 66 68 75 86 90 91]\n"
     ]
    }
   ],
   "source": [
    "from numpy.random import randint as ri\n",
    "import numpy as np\n",
    "\n",
    "\n",
    "A = np.array(ri(1,100,10))\n",
    "print(\"\\nVector of 10 random integers from 1 to 100\\n\",'-'*50,\"\\n\",A)\n",
    "print(\"\\nHere is the sorted vector\\n\",'-'*50,\"\\n\",np.sort(A))\n"
   ]
  },
  {
   "cell_type": "code",
   "execution_count": 5,
   "metadata": {},
   "outputs": [
    {
     "name": "stdout",
     "output_type": "stream",
     "text": [
      "\n",
      "5x5 Matrix of random integers\n",
      " -------------------------------------------------- \n",
      " [[20  9 15 23  2]\n",
      " [12 20 23 17 12]\n",
      " [24 20  4 17  6]\n",
      " [13 21  8  0  7]\n",
      " [ 3 12 14  5 19]]\n",
      "\n",
      "Here is the sorted matrix along each row\n",
      " -------------------------------------------------- \n",
      " [[ 2  9 15 20 23]\n",
      " [12 12 17 20 23]\n",
      " [ 4  6 17 20 24]\n",
      " [ 0  7  8 13 21]\n",
      " [ 3  5 12 14 19]]\n",
      "\n",
      "Here is the sorted matrix along each co\n",
      " [[ 3  9  4  0  2]\n",
      " [12 12  8  5  6]\n",
      " [13 20 14 17  7]\n",
      " [20 20 15 17 12]\n",
      " [24 21 23 23 19]]\n"
     ]
    }
   ],
   "source": [
    "from numpy.random import randint as ri\n",
    "import numpy as np\n",
    "\n",
    "M = np.array(ri(0,25,25)) #  5*5 Matrix of random interegrs\n",
    "\n",
    "N=M.reshape(5,5)\n",
    "print(\"\\n5x5 Matrix of random integers\\n\",'-'*50,\"\\n\",M.reshape(5,5))\n",
    "print(\"\\nHere is the sorted matrix along each row\\n\",'-'*50,\"\\n\",np.sort(N, axis=1, kind='mergesort')) # Default axis =1\n",
    "print(\"\\nHere is the sorted matrix along each co\\n\",np.sort(N, axis=0, kind='mergesort'))\n",
    "\n"
   ]
  },
  {
   "cell_type": "markdown",
   "metadata": {},
   "source": [
    "### 5.Create a,b,c  10 element vectors of random integers and perform the respective operation mentioned in print statement"
   ]
  },
  {
   "cell_type": "code",
   "execution_count": 1,
   "metadata": {},
   "outputs": [
    {
     "name": "stdout",
     "output_type": "stream",
     "text": [
      "a: [0 5 0 7 1 0 0 8 9 3]\n",
      "b: [1 6 4 9 2 2 6 5 5 2]\n",
      "c: [0 1 5 7 3 4 4 9 4 6]\n",
      "Max of a: 9\n",
      "Max of b: 9\n",
      "Max of a location: 8\n",
      "Max of b location: 3\n",
      "Max of c location: 7\n",
      "Max of a: 9\n",
      "Max of b: 9\n",
      "Max of a location: 8\n",
      "Max of b location: 3\n",
      "Max of c location: 7\n"
     ]
    }
   ],
   "source": [
    "# Fill the following ***** with appropriate solution\n",
    "\n",
    "from numpy.random import randint as ri\n",
    "import numpy as np\n",
    "\n",
    "a=ri(0,10,10)\n",
    "b=ri(0,10,10)\n",
    "c=ri(0,10,10)\n",
    "\n",
    "print(\"a:\", a)\n",
    "print(\"b:\", b)\n",
    "print(\"c:\", c)\n",
    "\n",
    "print(\"Max of a:\", np.max(a))\n",
    "print(\"Max of b:\",np.max(b))\n",
    "\n",
    "\n",
    "print(\"Max of a location:\", np.argmax(a))\n",
    "print(\"Max of b location:\", np.argmax(b))\n",
    "print(\"Max of c location:\", np.argmax(c))\n",
    "\n",
    "print(\"Max of a:\", np.max(a))\n",
    "print(\"Max of b:\", np.max(b))\n",
    "\n",
    "\n",
    "print(\"Max of a location:\", np.argmax(a))\n",
    "print(\"Max of b location:\", np.argmax(b))\n",
    "print(\"Max of c location:\", np.argmax(c))\n",
    "\n"
   ]
  },
  {
   "cell_type": "markdown",
   "metadata": {},
   "source": [
    "## Universal functions\n",
    "\n",
    "6. Create 3*3 matrices of random single-digit numbers.<br/>\n",
    "Apply universal functions on it. (square root,exponetial,log10,Modulo etc.)"
   ]
  },
  {
   "cell_type": "code",
   "execution_count": 6,
   "metadata": {},
   "outputs": [
    {
     "name": "stdout",
     "output_type": "stream",
     "text": [
      "\n",
      "1st Matrix of random single-digit numbers\n",
      "----------------------------------------\n",
      " [[5 7 6]\n",
      " [5 1 4]\n",
      " [3 9 3]]\n",
      "\n",
      "2nd Matrix of random single-digit numbers\n",
      "----------------------------------------\n",
      " [[5 9 6]\n",
      " [2 8 9]\n",
      " [3 4 9]]\n",
      "\n",
      "Sq-root of 1st matrix using np\n",
      "------------------\n",
      " [[2.23606798 2.64575131 2.44948974]\n",
      " [2.23606798 1.         2.        ]\n",
      " [1.73205081 3.         1.73205081]]\n",
      "\n",
      "Exponential power of 1st matrix using np\n",
      " -------------------------------------------------- \n",
      " [[1.48413159e+02 1.09663316e+03 4.03428793e+02]\n",
      " [1.48413159e+02 2.71828183e+00 5.45981500e+01]\n",
      " [2.00855369e+01 8.10308393e+03 2.00855369e+01]]\n",
      "\n",
      "10-base logarithm on 1st matrix using np\n",
      " -------------------------------------------------- \n",
      " [[0.69897    0.84509804 0.77815125]\n",
      " [0.69897    0.         0.60205999]\n",
      " [0.47712125 0.95424251 0.47712125]]\n",
      "\n",
      "Modulo reminder using np\n",
      " -------------------------------------------------- \n",
      " [[0 7 0]\n",
      " [1 1 4]\n",
      " [0 1 3]]\n"
     ]
    }
   ],
   "source": [
    "from numpy.random import randint as ri\n",
    "import numpy as np\n",
    "\n",
    "mat1 = ri(1,10,9).reshape(3,3)\n",
    "mat2 = ri(1,10,9).reshape(3,3)\n",
    "print(\"\\n1st Matrix of random single-digit numbers\\n----------------------------------------\\n\",mat1)\n",
    "print(\"\\n2nd Matrix of random single-digit numbers\\n----------------------------------------\\n\",mat2)\n",
    "\n",
    "\n",
    "print(\"\\nSq-root of 1st matrix using np\\n------------------\\n\", np.sqrt(mat1))\n",
    "\n",
    "\n",
    "print(\"\\nExponential power of 1st matrix using np\\n\",'-'*50,\"\\n\", np.exp(mat1))\n",
    "\n",
    "\n",
    "print(\"\\n10-base logarithm on 1st matrix using np\\n\",'-'*50,\"\\n\",np.log10(mat1))\n",
    "\n",
    "\n",
    "print(\"\\nModulo reminder using np\\n\",'-'*50,\"\\n\",np.mod(mat1,mat2))\n"
   ]
  },
  {
   "cell_type": "markdown",
   "metadata": {},
   "source": [
    "### 7.Generating matrices from distributions"
   ]
  },
  {
   "cell_type": "code",
   "execution_count": 11,
   "metadata": {},
   "outputs": [
    {
     "name": "stdout",
     "output_type": "stream",
     "text": [
      "Random number generation (from Uniform distribution)\n",
      "[[0.  0.2 0.4]\n",
      " [0.6 0.8 1. ]]\n",
      "Numbers from Normal distribution with zero mean and standard deviation 1 i.e. standard normal\n",
      "[[-0.62177579 -0.226924    0.58225133]\n",
      " [ 0.09336131 -1.21819772 -0.73315479]\n",
      " [-0.84811502  0.18487633  0.62636744]\n",
      " [ 0.81681151 -0.42596233 -0.20534801]]\n",
      "Random integer vector: [4 4 3 4 3 3 1 2 4 1]\n",
      "\n",
      "Random integer matrix [[2 2 1 2]\n",
      " [1 4 2 3]]\n",
      "\n",
      "\n",
      "20 samples drawn from a dice throw: [4 2 6 2 2 6 5 6 2 3 2 3 3 4 3 5 1 5 3 6]\n"
     ]
    }
   ],
   "source": [
    "from numpy.random import randint as ri\n",
    "import numpy as np\n",
    "\n",
    "print(\"Random number generation (from Uniform distribution)\")\n",
    "print(np.linspace(0,1,num=6).reshape(2,3)) # 2 by 3 matrix with random numbers ranging from 0 to 1, Note no Tuple is necessary \n",
    "\n",
    "print(\"Numbers from Normal distribution with zero mean and standard deviation 1 i.e. standard normal\")\n",
    "print(np.random.randn(4,3))\n",
    "\n",
    "print(\"Random integer vector:\",np.random.randint(1,5, size=10)) #randint (low, high, # of samples to be drawn)\n",
    "print (\"\\nRandom integer matrix\",np.random.randint(1,5, size=(2,4)))\n",
    "print(\"\") #randint (low, high, # of samples to be drawn in a tuple to form a matrix)\n",
    "\n",
    "print(\"\\n20 samples drawn from a dice throw:\",np.random.randint(1,7,20)) # 20 samples drawn from a dice throw"
   ]
  },
  {
   "cell_type": "markdown",
   "metadata": {},
   "source": [
    "### 8.Find the nearest value from a given number in an array using NumPy."
   ]
  },
  {
   "cell_type": "code",
   "execution_count": 19,
   "metadata": {},
   "outputs": [
    {
     "name": "stdout",
     "output_type": "stream",
     "text": [
      "[ 8 10  4  5  3]\n",
      "4\n"
     ]
    }
   ],
   "source": [
    "from numpy.random import randint as ri\n",
    "import numpy as np\n",
    "\n",
    "#Steps\n",
    "#Create an array of 5 random element from 1 to 12\n",
    "\n",
    "M=ri(1,12,5)\n",
    "\n",
    "print(M)\n",
    "v = 4\n",
    "n = M.flat[np.abs(M - v).argmin()]\n",
    "print(n)"
   ]
  },
  {
   "cell_type": "markdown",
   "metadata": {},
   "source": [
    "### 9.Write code using numpy to produce following output\n",
    "[[0 0 0] [0 1 2] [0 2 4]]"
   ]
  },
  {
   "cell_type": "code",
   "execution_count": 11,
   "metadata": {},
   "outputs": [
    {
     "name": "stdout",
     "output_type": "stream",
     "text": [
      "[[0 0 0]\n",
      " [0 1 2]\n",
      " [0 2 4]]\n"
     ]
    }
   ],
   "source": [
    "\n",
    "def myvander(myarray):\n",
    "    \n",
    "    \n",
    "\n",
    "        \n",
    "        d2=[[i*j for j in myarray  ] for i in myarray]\n",
    "        ns2=np.array(d2)\n",
    "        print(ns2)\n",
    "    \n",
    "        \n",
    "myarray=np.array([0,1,2])\n",
    "\n",
    "\n",
    "\n",
    "myvander(myarray)"
   ]
  },
  {
   "cell_type": "code",
   "execution_count": null,
   "metadata": {},
   "outputs": [],
   "source": []
  },
  {
   "cell_type": "code",
   "execution_count": null,
   "metadata": {},
   "outputs": [],
   "source": []
  }
 ],
 "metadata": {
  "kernelspec": {
   "display_name": "Python 3",
   "language": "python",
   "name": "python3"
  },
  "language_info": {
   "codemirror_mode": {
    "name": "ipython",
    "version": 3
   },
   "file_extension": ".py",
   "mimetype": "text/x-python",
   "name": "python",
   "nbconvert_exporter": "python",
   "pygments_lexer": "ipython3",
   "version": "3.7.3"
  }
 },
 "nbformat": 4,
 "nbformat_minor": 2
}
